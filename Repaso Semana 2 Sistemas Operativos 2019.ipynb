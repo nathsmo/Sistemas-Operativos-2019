{
 "cells": [
  {
   "cell_type": "markdown",
   "metadata": {},
   "source": [
    "# <center> Punteros </center>\n",
    "## Repaso Semana 1 - Sistemas Operativos\n",
    "### Por: Nathalia Morales\n"
   ]
  },
  {
   "cell_type": "markdown",
   "metadata": {},
   "source": [
    "## ¿Qué son los punteros?\n",
    "\n",
    "* Un puntero es una variable que contiene la dirección de memoria de otra variable.\n",
    "* Los punteros permiten código más compacto y eficiente; utilizándolos en forma ordenada dan gran flexibilidad a la programación.\n",
    "* La dirección de memoria de una variable se obtiene con el operador &.\n",
    "* El operador * permite la desreferencia (dereference en inglés) de una variable puntero; es decir, permite el acceso a lo apuntado por un puntero. \n",
    "\n",
    "## Tipos de punteros\n",
    "\n",
    "* Punteros a constantes\n",
    "* Punteros Genéticos\n",
    "* Punteros a Matrices\n",
    "* Punteros a cadena de caracteres\n",
    "* Matriz de punteros\n",
    "* Aritmética de punteros\n",
    "* Puntero a funciones\n",
    "\n",
    "### Puntero a funciones\n",
    "\n",
    "A continuación se nota como la función A toma como valor el resultado de la función B, la cuál regresa un valor booleano sobre si el valor de la variable sobrepasa 100 o no. Dentro de la definición del prototipo  de la función A se define el puntero a la función que será incluída próximamente allí. \n",
    "\n",
    "Primero se define el resultado que se devolvera, un valor booleano, segundo se define como un puntero hacia la función y que se necesita incluir un valor para mandar a la función."
   ]
  },
  {
   "cell_type": "code",
   "execution_count": null,
   "metadata": {},
   "outputs": [],
   "source": [
    "bool functionA( int, int, bool (*)( int ) ); //Prototipo\n",
    "bool functionB( int ); //Prototipo\n",
    "void main()\n",
    "{\n",
    "    int x = 113, y = 226;\n",
    "    if ( functionA( x, y, functionB ) )\n",
    "\t\tcout << \"\\nEl resultado es verdadero\";\n",
    "\telse\n",
    "\t\tcout << \"\\nEl resultado es falso\";\n",
    "}\n",
    "\n",
    "bool functionA( int param1, int param2, bool (*verificar)( int ) )\n",
    "{\n",
    "if ( ( (*verificar)( param1 ) ) && ( (*verificar)( param2 ) ) )\n",
    "\t\treturn true;\n",
    "}\n",
    "\n",
    "bool functionB( int param )\n",
    "{\n",
    "\tif ( param > 100 )\n",
    "\t\treturn true;\n",
    "\telse\n",
    "\t\treturn false;\n",
    "}\n"
   ]
  },
  {
   "cell_type": "markdown",
   "metadata": {},
   "source": [
    "### Operadores de puntero\n",
    "\n",
    "Tal como se explicó antes:\n",
    "\n",
    "El símbolo *: Operador de indirección, Devuelve el acceso al contenido del tipo de dato al que apunta su operando (valor del dato)\n",
    "\n",
    "El símbolo &: Operador de dirección, Devuelve la dirección de memoria de su operando. (dirección)\n",
    "\n",
    "![Ejemplo_de_operadores_de_punteros](https://image.slidesharecdn.com/punterosyfuncionesabril-agosto2016-170527041748/95/punteros-y-funciones-27-638.jpg?cb=1495858704)\n",
    "\n",
    "### Punteros y vectores (arrays)\n",
    "\n",
    "* Los vectores son punteros constantes.\n",
    "* Un vector sin subindice es un puntero al primer elemento del vector\n",
    "* Una matriz es un vector de vectores\n",
    "\n",
    "Más información en: \n",
    "http://jbgarcia.webs.uvigo.es/asignaturas/TO/cursilloCpp/3_punteros_vectores.html\n",
    "\n",
    "### Aritmética de punteros\n",
    "\n",
    "El *Sizeof* indica el **tamaño** del dato.\n",
    "Todos los tipos de datos ocupan espacio de memoria, incluyendo el *void*.\n",
    "La memoria se representa de forma contigua. (Se dice de dos objetos que están contiguos si están unos al lado del otro tocándose)\n",
    "\n",
    "|Operación|\tResultado|\tComentario|\n",
    "|---|---|-------|\n",
    "|pt1++|\tpuntero|\tDesplazamiento ascendente de 1 elemento|\n",
    "|pt1--|\tpuntero\tDesplazamiento descendente de 1 elemento|\n",
    "|pt1 + n|\tpuntero|\tDesplazamiento ascendente n elementos|\n",
    "|pt1 - n|\tpuntero|\tDesplazamiento descendente n elementos|\n",
    "|pt1 - pt2|\tentero|\tDistancia entre elementos|\n",
    "|pt1 == NULL|\tbooleano|\tSiempre se puede comprobar la igualdad o desigualdad con *NULL*|\n",
    "|pt1 = pt2|\tpuntero|\tAsignación|\n",
    "|pt1 = void|\tpuntero genérico|\tAsignación|\n",
    "\n",
    "Obtenido de: https://www.zator.com/Cpp/E4_2_2.htm\n",
    "\n",
    "**Ejemplo:**"
   ]
  },
  {
   "cell_type": "code",
   "execution_count": null,
   "metadata": {},
   "outputs": [],
   "source": [
    "#include <iostream>\n",
    "\n",
    "using std::cout;\n",
    "using std::endl;\n",
    "\n",
    "int main(){\n",
    "    int X[6] = { 1, 2, 3, 4, 5, 6 };\n",
    "    int *ptrX;\n",
    "    \n",
    "    ptrX = X; // Inicializo el valor del puntero\n",
    "    \n",
    "    cout << endl << *ptrX;\n",
    "    ptrX += 2;\n",
    "    cout << endl << *ptrX;\n",
    "    ptrX -= 2;\n",
    "    cout << endl << *ptrX;\n",
    "    ptrX ++;\n",
    "    cout << endl << *ptrX;\n",
    "    return 0;\n",
    "}"
   ]
  },
  {
   "cell_type": "markdown",
   "metadata": {},
   "source": [
    "### Matrices de punteros\n",
    "* Las estructuras vectoriales pueden definirse como una sucesión de punteros (cada celda corresponde a otro puntero)\n",
    "\n",
    "**Ejemplo:**\n"
   ]
  },
  {
   "cell_type": "code",
   "execution_count": null,
   "metadata": {},
   "outputs": [],
   "source": [
    "const char *dias[7] = { \n",
    "\"Domingo\", \n",
    "\"Lunes\", \n",
    "\"Martes\", \n",
    "\"Miercoles\", \n",
    "\"Jueves\", \n",
    "\"Viernes\", \n",
    "\"Sabado\" \n",
    "}"
   ]
  },
  {
   "cell_type": "markdown",
   "metadata": {},
   "source": [
    "### Punteros genéricos\n",
    "\n",
    "* Un puntero a cualquier tipo de dato puede convertirse a un puntero del tipo <b>void *</b>. Por esto un puntero a <b>void *</b>, recibe el nombre de puntero genérico.\n",
    "\n",
    "Más información en: https://www.zator.com/Cpp/E4_2_1d.htm\n",
    "\n",
    "### Mecanismos de uso\n",
    "\n",
    "#### Valor por referencia\n",
    "\n",
    "#### Ejemplo"
   ]
  },
  {
   "cell_type": "code",
   "execution_count": null,
   "metadata": {},
   "outputs": [],
   "source": [
    "#include <iostream>\n",
    "\n",
    "void sumoeldoble(int *);\n",
    "\n",
    "int main()\n",
    "{\n",
    "  int X = 15;\n",
    "  sumoeldoble(&X);\n",
    "  std::cout << X;\n",
    "  return 0;\n",
    "\n",
    "}\n",
    "\n",
    "void sumoeldoble(int *ptrX)\n",
    "{\n",
    "  //Toma el valor de X mediante el operador de indireccion\n",
    "  // La funcion no devuelve nada porque modifica el valor por referencia.\n",
    "  *ptrX = *ptrX + (*ptrX * 2);\n",
    "}"
   ]
  },
  {
   "cell_type": "markdown",
   "metadata": {},
   "source": [
    "#### Puntero constante a un dato no constante\n",
    "\n",
    "#### Ejemplo"
   ]
  },
  {
   "cell_type": "code",
   "execution_count": null,
   "metadata": {},
   "outputs": [],
   "source": [
    "#include <iostream>\n",
    "\n",
    "int main(){\n",
    "  int foo, bar;\n",
    "  int * const ptrFoo = &foo; // Apuntador constante a un entero en la direccion de la memoria de foo\n",
    "\n",
    "  *ptrFoo = 53;\n",
    "\n",
    "  //Esto devuelve un error porque es un puntero constante.\n",
    "  // No se puede alterar la direccion de memoria a la que apunta \n",
    "\n",
    "  ptrFoo = &bar;\n",
    "}"
   ]
  },
  {
   "cell_type": "markdown",
   "metadata": {},
   "source": [
    "## Otros ejemplos"
   ]
  },
  {
   "cell_type": "code",
   "execution_count": null,
   "metadata": {},
   "outputs": [],
   "source": [
    "#include <iostream>\n",
    "\n",
    "int x[100],b,*pa, *pb;\n",
    "//...\n",
    "x[50=10]; //Le asignamos el valor de 10, al array #50\n",
    "pa=&x[50]; //Le asignamos al puntero pa, la direccion de memoria que tiene x[50]\n",
    "\n",
    "// Ahora mostramos algunas posibles operaciones\n",
    "b = *pa+1; //Esto es como decir el valor que tiene el array de x[50] sumarle 1.\n",
    "//Esto es igual a: b=x[50]+1=> Su valor seria igual a 11.\n",
    "\n",
    "b = *(pa+1); // Esto primero pasa a la siguiente direccion de memoria y luego lo referencia\n",
    "// El resultado es: b = x[51];\n",
    "\n",
    "pb = &x[10]; //al puntero pb se le asigna la direccion de x[10]\n",
    "\n",
    "*pd = 0; // Al valor que tiene el puntero se le asigna 0\n",
    "  //Esto es igual que decir: x[10] = 0\n",
    "\n",
    "*pd +=2; //El valor del puntero se incrementa en dos unidades, es decir x[10] = 2\n",
    "\n",
    "(*pd)--; // El valor del puntero se decrementa en una unidades\n",
    "x[0] = *pd--; //A x[0] se le pasa el valor de x[10] y el puntero pd, pasa a apuntar a x[9]\n",
    "//recuerda, que -- es post-incremento, primero asignara y luego restara"
   ]
  },
  {
   "cell_type": "markdown",
   "metadata": {},
   "source": [
    "## Otro ejemplo"
   ]
  },
  {
   "cell_type": "code",
   "execution_count": null,
   "metadata": {},
   "outputs": [],
   "source": [
    "#include <stdio.h>  \n",
    "int temp_data = 100;  \n",
    "static int temp_bss;  \n",
    "void print_addr ( void )  \n",
    "{  \n",
    "int local_var = 100;  \n",
    "int *code_segment_address = ( int* ) &print_addr;  \n",
    "int *data_segment_address = &temp_data;  \n",
    "int *bss_address = &temp_bss;  \n",
    "int *stack_segment_address = &local_var;  \n",
    "printf ( \"\\nAddress of various segments:\" );  \n",
    "printf ( \"\\n\\tCode Segment : %p\" , code_segment_address );  \n",
    "printf ( \"\\n\\tData Segment : %p\" , data_segment_address );  \n",
    "printf ( \"\\n\\tBSS : %p\" , bss_address );  \n",
    "printf ( \"\\n\\tStack Segment : %p\\n\" , stack_segment_address );  \n",
    "}  \n",
    "int main ( )  \n",
    "{  \n",
    "print_addr ();  \n",
    "return 0;  \n",
    "} \n",
    " \n"
   ]
  },
  {
   "cell_type": "markdown",
   "metadata": {},
   "source": [
    "# Ejercicios en clase\n",
    "\n",
    "Durante las clases de la semana del 3 al 9 de junio se trabajaron los siguientes ejercicios en clase en donde se exploran los diferentes tipos de punteros.\n",
    "\n",
    "### Version 1\n",
    "\n",
    "**¿Qué hace?** Verifica si el parametro 1 y parametro 2 ambos son mayores a 100. Imprime el resultado de la direccion en donde estan almacenanos en memoria e imprime el resultado de True si ambos son mayores y Falso si alguno de los dos o ambos son abajo de 100.\n"
   ]
  },
  {
   "cell_type": "code",
   "execution_count": null,
   "metadata": {},
   "outputs": [],
   "source": [
    "#include <iostream>\n",
    "\n",
    "using namespace std;\n",
    "bool functionA( int, int, bool (*)( int ) ); //Prototipo\n",
    "bool functionB( int ); //Prototipo\n",
    "int main()\n",
    "{\n",
    "    int x = 99, y = 226;\n",
    "    if ( functionA( x, y, functionB ) )\n",
    "\t\tcout << \"\\nEl resultado es verdadero\";\n",
    "\telse\n",
    "\t\tcout << \"\\nEl resultado es falso\";\n",
    "  return 0;\n",
    "}\n",
    "\n",
    "\n",
    "bool functionA( int param1, int param2, bool (*verificar)( int ) )\n",
    "{\n",
    "  std::cout << \"Param1: \"<< &param1 <<\"\\n\"<< \"Param2: \" << &param2;\n",
    "if ( ( (*verificar)( param1 ) ) && ( (*verificar)( param2 ) ) ){\n",
    "\t\treturn true;}\n",
    "return false;\n",
    "}\n",
    "\n",
    "bool functionB( int param )\n",
    "{\n",
    "\tif ( param > 100 )\n",
    "\t\treturn true;\n",
    "\telse\n",
    "\t\treturn false;\n",
    "}"
   ]
  },
  {
   "cell_type": "markdown",
   "metadata": {},
   "source": [
    "## Versión 3\n",
    "\n",
    "**¿Qué hace?**\n",
    "Comprobar el direccionamiento de la variable y segun su asignacion o reasignacion. Y el mismo procedimiento de la version2.\n",
    "\n",
    "\n"
   ]
  },
  {
   "cell_type": "code",
   "execution_count": null,
   "metadata": {},
   "outputs": [],
   "source": [
    "#include <iostream>\n",
    "\n",
    "int *functionA( int *, int *, bool (*)( int ) ); //Prototipo\n",
    "bool functionB( int ); //Prototipo\n",
    "\n",
    "int main()\n",
    "{\n",
    "  int x = 13;\n",
    "  int* y = new int;\n",
    "  *y = 215;\n",
    "  std::cout << \"Address y puntero: \"<<&y << \" - apunta \" << y;\n",
    "  y = new int;\n",
    "  std::cout << \"\\nDespues del cambio\";\n",
    "  std::cout << \"\\n\" << \"Address y puntero: \"<<&y << \" - apunta \" << y;\n",
    "   int* res = functionA( &x, y, functionB );\n",
    "    std::cout << \"\\n Retorno:\" << res << \" \" << *res;\n",
    "  return 0;\n",
    "}\n",
    "int* functionA( int *param1, int *param2, bool (*verificar)( int ) )\n",
    "{\n",
    "  //std::cout << \"functionA\";\n",
    "  //*param1 = 400;\n",
    "  if (((*verificar)(*param1)) && ((*verificar)(*param2)))\n",
    "  {\n",
    "    std::cout << \"\\n Param1:\" << param1 << \" \" << *param1 << \"\\n Param2:\" << param2 << \" \" << *param2; \n",
    "\t\treturn param2;\n",
    "  }\n",
    "  std::cout << \"\\n Param1:\" << param1 << \" \" << *param1 << \"\\n Param2:\" << param2 << \" \" << *param2;\n",
    "  return param1;\n",
    "}\n",
    "\n",
    "bool functionB( int param )\n",
    "{\n",
    "\tif ( param > 100 )\n",
    "\t\treturn true;\n",
    "\telse\n",
    "\t\treturn false;\n",
    "}\n"
   ]
  },
  {
   "cell_type": "markdown",
   "metadata": {},
   "source": [
    "## Bibliografía y referencias\n",
    "\n",
    "https://www.fing.edu.uy/inco/cursos/prog3/utils/Punteros.pdf\n",
    "https://www.zator.com/Cpp/E4_2_2.htm\n"
   ]
  }
 ],
 "metadata": {
  "kernelspec": {
   "display_name": "C",
   "language": "c",
   "name": "c"
  },
  "language_info": {
   "file_extension": ".c",
   "mimetype": "text/plain",
   "name": "c"
  }
 },
 "nbformat": 4,
 "nbformat_minor": 2
}
